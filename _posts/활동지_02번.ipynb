{
  "nbformat": 4,
  "nbformat_minor": 0,
  "metadata": {
    "colab": {
      "name": "활동지 02번 ",
      "provenance": []
    },
    "kernelspec": {
      "name": "python3",
      "display_name": "Python 3"
    }
  },
  "cells": [
    {
      "cell_type": "code",
      "metadata": {
        "colab": {
          "base_uri": "https://localhost:8080/"
        },
        "id": "sQLPgzjFiIb1",
        "outputId": "8ce73a33-845b-435a-bf3c-58051b1cd49e"
      },
      "source": [
        "user=\"bellflower\"\n",
        "기관=\"or\"\n",
        "국가명=\"kr\"\n",
        "print('http//www.{}.{}.{}'.format(user, 기관, 국가명))"
      ],
      "execution_count": null,
      "outputs": [
        {
          "output_type": "stream",
          "text": [
            "http//www.bellflower.or.kr\n"
          ],
          "name": "stdout"
        }
      ]
    },
    {
      "cell_type": "code",
      "metadata": {
        "id": "oQQtIeZmigcc"
      },
      "source": [
        ""
      ],
      "execution_count": null,
      "outputs": []
    }
  ]
}